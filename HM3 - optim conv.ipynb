{
 "cells": [
  {
   "cell_type": "markdown",
   "id": "6e8b6d47",
   "metadata": {},
   "source": [
    "# Convex Optimization - Homework 3"
   ]
  },
  {
   "cell_type": "code",
   "execution_count": 11,
   "id": "b8a89b23",
   "metadata": {},
   "outputs": [],
   "source": [
    "import numpy as np\n",
    "import scipy as sc\n",
    "import matplotlib.pyplot as plt\n",
    "from scipy.linalg import inv\n",
    "import sklearn\n",
    "from sklearn.datasets import make_regression"
   ]
  },
  {
   "cell_type": "markdown",
   "id": "0b8a27fa",
   "metadata": {},
   "source": [
    "## Question 2"
   ]
  },
  {
   "cell_type": "markdown",
   "id": "71e33b8b",
   "metadata": {},
   "source": [
    "Implement the barrier method to solve QP."
   ]
  },
  {
   "cell_type": "code",
   "execution_count": 21,
   "id": "d7516509",
   "metadata": {},
   "outputs": [],
   "source": [
    "# Definition of useful functions\n",
    "\n",
    "def grad(Q,p,A,b,t,v):\n",
    "    return (t*(2*Q@v+p) + A.T@(b-A@v)**(-1))\n",
    "    \n",
    "\n",
    "def hessian(Q,p,A,b,t,v):\n",
    "    s = 0\n",
    "    for i in range (A.shape[0]):\n",
    "        s = s + (b-A@v)[i]**(-2)*  (A[i,].reshape(-1,1))@(A[i,].reshape(1,-1))\n",
    "    return (2*t*Q+s)\n",
    "\n",
    "def f(Q,p,A,b,t,v):\n",
    "    return t*(v.T@Q@v + p.T.dot(v)) - np.sum(np.log(b-A.dot(v)))"
   ]
  },
  {
   "cell_type": "code",
   "execution_count": 26,
   "id": "f929bfb6",
   "metadata": {},
   "outputs": [],
   "source": [
    "#  Newton method to solve the centering step given the inputs\n",
    "\n",
    "def centering_step(Q,p,A,b,t,v0,eps):\n",
    "    \n",
    "    V = [v0]\n",
    "    i = 0\n",
    "    Continue = True\n",
    "    \n",
    "    while Continue:\n",
    "        v = V[-1]\n",
    "        newt_step = -inv(hessian(Q,p,A,b,t,v)).dot(grad(Q,p,A,b,t,v))\n",
    "        lambda_sq = -grad(Q,p,A,b,t,v).T.dot(newt_step)\n",
    "        \n",
    "        Continue = (lambda_sq/2 >= eps)\n",
    "        if not Continue:\n",
    "            break\n",
    "            \n",
    "        else:\n",
    "            i += 1\n",
    "            \n",
    "# Line search backtracking \n",
    "            T = 1\n",
    "            while not(((b-A.dot(v+T*newt_step))>0).all()) or (f(Q,p,A,b,t,v+T*newt_step) > f(Q,p,A,b,t,v) + alpha*T*grad(Q,p,A,b,t,v).T.dot(newt_step)):\n",
    "                T = beta*T\n",
    "            \n",
    "            v = v + T*newt_step\n",
    "            V.append(v)\n",
    "    return (V[-1], i)"
   ]
  },
  {
   "cell_type": "code",
   "execution_count": 27,
   "id": "a59a78a9",
   "metadata": {},
   "outputs": [],
   "source": [
    "# Barrier method using the centering step to solve the problem\n",
    "\n",
    "def barr_method(Q,p,A,b,v0,eps,mu):\n",
    "    t = 1  \n",
    "    m = A.shape[0]\n",
    "    V = [v0]\n",
    "    i_newton = [0]\n",
    "    Continue = (m/t >= eps)\n",
    "    while Continue:\n",
    "        v0, i = centering_step(Q,p,A,b,t,v0,0.00001)\n",
    "        V.append(v0)\n",
    "        i_newton.append(i_newton[-1]+i)\n",
    "        t = mu*t\n",
    "        Continue = (m/t >= eps)\n",
    "    \n",
    "    return (V, i_newton)"
   ]
  },
  {
   "cell_type": "markdown",
   "id": "c38dd3ad",
   "metadata": {},
   "source": [
    "## Question 3\n",
    "\n",
    "Test your function on randomly generated matrices $X$ and observations y with $λ = 10$. Plot precision criterion and gap $f(vt)−f∗$ in semilog scale (using the best value found for $f$ as a surrogate for $f∗$). Repeat for different values of the barrier method parameter $μ = 2, 15, 50, 100, . . .$ and check the impact on w. What would be an appropriate choice for $μ$ ?"
   ]
  },
  {
   "cell_type": "code",
   "execution_count": 28,
   "id": "fbe2f18c",
   "metadata": {},
   "outputs": [],
   "source": [
    "\n",
    "n =10\n",
    "d = 100\n",
    "\n",
    "np.random.seed()\n",
    "X,y,coef = make_regression(n_samples=n, n_features=d, n_informative=10, coef=True, noise = 1)\n",
    "y = y.reshape((-1,1))\n",
    "\n",
    "alpha = 0.01 \n",
    "beta = 0.5   \n",
    "Lambda = 10\n",
    "\n",
    "Q = 0.5*np.eye(n)\n",
    "p = -y\n",
    "A = np.vstack((X.T,-X.T))\n",
    "b = Lambda*np.ones((2*d,1))\n",
    "v0 = np.zeros((n,1))\n",
    "eps = 0.001"
   ]
  },
  {
   "cell_type": "code",
   "execution_count": 29,
   "id": "6ec5a07d",
   "metadata": {},
   "outputs": [
    {
     "data": {
      "image/png": "[encoded data removed]",
      "text/plain": [
       "<Figure size 720x360 with 1 Axes>"
      ]
     },
     "metadata": {
      "needs_background": "light"
     },
     "output_type": "display_data"
    }
   ],
   "source": [
    "plt.figure(figsize=(10,5)) \n",
    "\n",
    "for mu in [2,15,50,100,400,800]:\n",
    "    V, i_newton = barr_method(Q,p,A,b,v0,0.001,mu)\n",
    "    v_star = V[-1]\n",
    "    values = [(v0.T@Q@v0 + p.T.dot(v0))[0,0] - (v_star.T@Q@v_star + p.T.dot(v_star))[0,0] for v0 in V]\n",
    "    plt.step(i_newton, values, label='mu = '+str(mu))\n",
    "\n",
    "plt.title ('Gap in log-scale') \n",
    "plt.legend()\n",
    "plt.semilogy()\n",
    "plt.xlabel('Newton iterations')\n",
    "plt.ylabel('$f(v_t)-f^*$')\n",
    "\n",
    "plt.show()"
   ]
  },
  {
   "cell_type": "markdown",
   "id": "6bed9320",
   "metadata": {},
   "source": [
    "For a low value of mu, the steps are small but the convergence is slow. For a high value of mu, the steps are larger and the convergence is faster. \n",
    "\n",
    "An appropriate choice for $\\mu$ would be around 50 in order to have a not-to-small convergence. "
   ]
  }
 ],
 "metadata": {
  "kernelspec": {
   "display_name": "Python 3",
   "language": "python",
   "name": "python3"
  },
  "language_info": {
   "codemirror_mode": {
    "name": "ipython",
    "version": 3
   },
   "file_extension": ".py",
   "mimetype": "text/x-python",
   "name": "python",
   "nbconvert_exporter": "python",
   "pygments_lexer": "ipython3",
   "version": "3.8.8"
  }
 },
 "nbformat": 4,
 "nbformat_minor": 5
}
